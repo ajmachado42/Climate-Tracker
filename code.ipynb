{
 "cells": [
  {
   "cell_type": "code",
   "execution_count": 1,
   "id": "5afcfdb8",
   "metadata": {},
   "outputs": [],
   "source": [
    "import pandas as pd\n",
    "from pandas import json_normalize\n",
    "import numpy as np\n",
    "import seaborn as sns\n",
    "import matplotlib.pyplot as plt\n",
    "import requests\n",
    "import datetime\n",
    "\n",
    "%matplotlib inline\n",
    "pd.set_option('display.max_columns', None)\n"
   ]
  },
  {
   "cell_type": "code",
   "execution_count": 4,
   "id": "8a1f7013",
   "metadata": {},
   "outputs": [
    {
     "data": {
      "application/vnd.microsoft.datawrangler.viewer.v0+json": {
       "columns": [
        {
         "name": "index",
         "rawType": "int64",
         "type": "integer"
        },
        {
         "name": "country",
         "rawType": "object",
         "type": "string"
        },
        {
         "name": "zip_code",
         "rawType": "int64",
         "type": "integer"
        },
        {
         "name": "city",
         "rawType": "object",
         "type": "string"
        },
        {
         "name": "county",
         "rawType": "object",
         "type": "string"
        },
        {
         "name": "state",
         "rawType": "object",
         "type": "string"
        },
        {
         "name": "latitude",
         "rawType": "float64",
         "type": "float"
        },
        {
         "name": "longitude",
         "rawType": "float64",
         "type": "float"
        }
       ],
       "ref": "415fc04b-d655-4213-9533-41364b8d38b4",
       "rows": [
        [
         "0",
         "US",
         "99553",
         "Akutan",
         "Alaska",
         "AK",
         "54.143",
         "-165.7854"
        ],
        [
         "1",
         "US",
         "99571",
         "Cold Bay",
         "Alaska",
         "AK",
         "55.1858",
         "-162.7211"
        ],
        [
         "2",
         "US",
         "99583",
         "False Pass",
         "Alaska",
         "AK",
         "54.8542",
         "-163.4113"
        ],
        [
         "3",
         "US",
         "99612",
         "King Cove",
         "Alaska",
         "AK",
         "55.0628",
         "-162.3056"
        ],
        [
         "4",
         "US",
         "99661",
         "Sand Point",
         "Alaska",
         "AK",
         "55.3192",
         "-160.4914"
        ]
       ],
       "shape": {
        "columns": 7,
        "rows": 5
       }
      },
      "text/html": [
       "<div>\n",
       "<style scoped>\n",
       "    .dataframe tbody tr th:only-of-type {\n",
       "        vertical-align: middle;\n",
       "    }\n",
       "\n",
       "    .dataframe tbody tr th {\n",
       "        vertical-align: top;\n",
       "    }\n",
       "\n",
       "    .dataframe thead th {\n",
       "        text-align: right;\n",
       "    }\n",
       "</style>\n",
       "<table border=\"1\" class=\"dataframe\">\n",
       "  <thead>\n",
       "    <tr style=\"text-align: right;\">\n",
       "      <th></th>\n",
       "      <th>country</th>\n",
       "      <th>zip_code</th>\n",
       "      <th>city</th>\n",
       "      <th>county</th>\n",
       "      <th>state</th>\n",
       "      <th>latitude</th>\n",
       "      <th>longitude</th>\n",
       "    </tr>\n",
       "  </thead>\n",
       "  <tbody>\n",
       "    <tr>\n",
       "      <th>0</th>\n",
       "      <td>US</td>\n",
       "      <td>99553</td>\n",
       "      <td>Akutan</td>\n",
       "      <td>Alaska</td>\n",
       "      <td>AK</td>\n",
       "      <td>54.1430</td>\n",
       "      <td>-165.7854</td>\n",
       "    </tr>\n",
       "    <tr>\n",
       "      <th>1</th>\n",
       "      <td>US</td>\n",
       "      <td>99571</td>\n",
       "      <td>Cold Bay</td>\n",
       "      <td>Alaska</td>\n",
       "      <td>AK</td>\n",
       "      <td>55.1858</td>\n",
       "      <td>-162.7211</td>\n",
       "    </tr>\n",
       "    <tr>\n",
       "      <th>2</th>\n",
       "      <td>US</td>\n",
       "      <td>99583</td>\n",
       "      <td>False Pass</td>\n",
       "      <td>Alaska</td>\n",
       "      <td>AK</td>\n",
       "      <td>54.8542</td>\n",
       "      <td>-163.4113</td>\n",
       "    </tr>\n",
       "    <tr>\n",
       "      <th>3</th>\n",
       "      <td>US</td>\n",
       "      <td>99612</td>\n",
       "      <td>King Cove</td>\n",
       "      <td>Alaska</td>\n",
       "      <td>AK</td>\n",
       "      <td>55.0628</td>\n",
       "      <td>-162.3056</td>\n",
       "    </tr>\n",
       "    <tr>\n",
       "      <th>4</th>\n",
       "      <td>US</td>\n",
       "      <td>99661</td>\n",
       "      <td>Sand Point</td>\n",
       "      <td>Alaska</td>\n",
       "      <td>AK</td>\n",
       "      <td>55.3192</td>\n",
       "      <td>-160.4914</td>\n",
       "    </tr>\n",
       "  </tbody>\n",
       "</table>\n",
       "</div>"
      ],
      "text/plain": [
       "  country  zip_code        city  county state  latitude  longitude\n",
       "0      US     99553      Akutan  Alaska    AK   54.1430  -165.7854\n",
       "1      US     99571    Cold Bay  Alaska    AK   55.1858  -162.7211\n",
       "2      US     99583  False Pass  Alaska    AK   54.8542  -163.4113\n",
       "3      US     99612   King Cove  Alaska    AK   55.0628  -162.3056\n",
       "4      US     99661  Sand Point  Alaska    AK   55.3192  -160.4914"
      ]
     },
     "execution_count": 4,
     "metadata": {},
     "output_type": "execute_result"
    }
   ],
   "source": [
    "# zip code to lat long\n",
    "# https://download.geonames.org/export/zip/\n",
    "\n",
    "zip_df = pd.read_csv('./data/CA_zips.csv')\n",
    "zip_df.head()\n"
   ]
  },
  {
   "cell_type": "code",
   "execution_count": null,
   "id": "a01b2e74",
   "metadata": {},
   "outputs": [],
   "source": [
    "# lat lon to daily weather\n",
    "\n",
    "API_key = [REDACTED]\n",
    "\n",
    "url_weather = f\"https://api.openweathermap.org/data/3.0/onecall/timemachine?lat=38.77346634864807&lon=-121.36368582956493&dt=1658362065&appid={API_key}\"\n",
    "weather_req = requests.get(url_weather)\n",
    "print(f'Status: {weather_req.status_code}')\n",
    "\n",
    "weather = weather_req.json()\n",
    "print(weather.keys())\n",
    "\n",
    "weather_df = json_normalize(weather['data'])\n",
    "weather_df = weather_df[['dt', 'temp']]\n",
    "\n",
    "# Convert dt UNIX to datetime UTC\n",
    "weather_df['dt'] = weather_df['dt'].apply(lambda x: datetime.datetime.fromtimestamp(x))\n",
    "\n",
    "weather_df.head()"
   ]
  }
 ],
 "metadata": {
  "kernelspec": {
   "display_name": "base",
   "language": "python",
   "name": "python3"
  },
  "language_info": {
   "codemirror_mode": {
    "name": "ipython",
    "version": 3
   },
   "file_extension": ".py",
   "mimetype": "text/x-python",
   "name": "python",
   "nbconvert_exporter": "python",
   "pygments_lexer": "ipython3",
   "version": "3.11.5"
  }
 },
 "nbformat": 4,
 "nbformat_minor": 5
}
